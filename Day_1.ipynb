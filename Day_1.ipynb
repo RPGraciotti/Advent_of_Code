{
  "nbformat": 4,
  "nbformat_minor": 0,
  "metadata": {
    "colab": {
      "provenance": [],
      "authorship_tag": "ABX9TyOkKkrMsYlj8orOQMteDLwe",
      "include_colab_link": true
    },
    "kernelspec": {
      "name": "python3",
      "display_name": "Python 3"
    },
    "language_info": {
      "name": "python"
    }
  },
  "cells": [
    {
      "cell_type": "markdown",
      "metadata": {
        "id": "view-in-github",
        "colab_type": "text"
      },
      "source": [
        "<a href=\"https://colab.research.google.com/github/RPGraciotti/Advent_of_Code/blob/main/Day_1.ipynb\" target=\"_parent\"><img src=\"https://colab.research.google.com/assets/colab-badge.svg\" alt=\"Open In Colab\"/></a>"
      ]
    },
    {
      "cell_type": "markdown",
      "source": [
        "# Advent of Code 2022\n",
        "\n",
        "## Day 1\n",
        "\n",
        "###https://adventofcode.com/2022/day/1"
      ],
      "metadata": {
        "id": "8v0lNtD6NFSQ"
      }
    },
    {
      "cell_type": "markdown",
      "source": [
        "--- Day 1: Calorie Counting ---\n",
        "Santa's reindeer typically eat regular reindeer food, but they need a lot of magical energy to deliver presents on Christmas. For that, their favorite snack is a special type of star fruit that only grows deep in the jungle. The Elves have brought you on their annual expedition to the grove where the fruit grows.\n",
        "\n",
        "To supply enough magical energy, the expedition needs to retrieve a minimum of fifty stars by December 25th. Although the Elves assure you that the grove has plenty of fruit, you decide to grab any fruit you see along the way, just in case.\n",
        "\n",
        "Collect stars by solving puzzles. Two puzzles will be made available on each day in the Advent calendar; the second puzzle is unlocked when you complete the first. Each puzzle grants one star. Good luck!\n",
        "\n",
        "The jungle must be too overgrown and difficult to navigate in vehicles or access from the air; the Elves' expedition traditionally goes on foot. As your boats approach land, the Elves begin taking inventory of their supplies. One important consideration is food - in particular, the number of Calories each Elf is carrying (your puzzle input).\n",
        "\n",
        "The Elves take turns writing down the number of Calories contained by the various meals, snacks, rations, etc. that they've brought with them, one item per line. Each Elf separates their own inventory from the previous Elf's inventory (if any) by a blank line.\n",
        "\n",
        "For example, suppose the Elves finish writing their items' Calories and end up with the following list:\n",
        "\n",
        "```\n",
        "1000\n",
        "2000\n",
        "3000\n",
        "\n",
        "4000\n",
        "\n",
        "5000\n",
        "6000\n",
        "\n",
        "7000\n",
        "8000\n",
        "9000\n",
        "\n",
        "10000\n",
        "```\n",
        "\n",
        "\n",
        "This list represents the Calories of the food carried by five Elves:\n",
        "\n",
        "The first Elf is carrying food with 1000, 2000, and 3000 Calories, a total of 6000 Calories.\n",
        "The second Elf is carrying one food item with 4000 Calories.\n",
        "The third Elf is carrying food with 5000 and 6000 Calories, a total of 11000 Calories.\n",
        "The fourth Elf is carrying food with 7000, 8000, and 9000 Calories, a total of 24000 Calories.\n",
        "The fifth Elf is carrying one food item with 10000 Calories.\n",
        "In case the Elves get hungry and need extra snacks, they need to know which Elf to ask: they'd like to know how many Calories are being carried by the Elf carrying the most Calories. In the example above, this is 24000 (carried by the fourth Elf).\n",
        "\n",
        "Find the Elf carrying the most Calories. How many total Calories is that Elf carrying?\n"
      ],
      "metadata": {
        "id": "D21zZpiGPBwE"
      }
    },
    {
      "cell_type": "markdown",
      "source": [
        "Solution from https://twitter.com/rochacbruno/status/1598304303718240256:"
      ],
      "metadata": {
        "id": "49dGYExatIEr"
      }
    },
    {
      "cell_type": "code",
      "source": [
        "list(reversed(sorted([sum(int(item) for item in block.split(\"\\n\") if item) for block in open(\"input.txt\").read().split(\"\\n\\n\")])))[0]"
      ],
      "metadata": {
        "colab": {
          "base_uri": "https://localhost:8080/"
        },
        "id": "ZScenZhdtLfv",
        "outputId": "3a8a1e54-9225-4437-e8e0-a766d0d0178e"
      },
      "execution_count": 1,
      "outputs": [
        {
          "output_type": "execute_result",
          "data": {
            "text/plain": [
              "72478"
            ]
          },
          "metadata": {},
          "execution_count": 1
        }
      ]
    },
    {
      "cell_type": "code",
      "source": [
        "sum(list(reversed(sorted([sum(int(item) for item in block.split(\"\\n\") if item) for block in open(\"input.txt\").read().split(\"\\n\\n\")])))[:3])"
      ],
      "metadata": {
        "colab": {
          "base_uri": "https://localhost:8080/"
        },
        "id": "cFAXu13BtaAT",
        "outputId": "af528d7e-0ec9-4791-e2f9-79f57bcebfbf"
      },
      "execution_count": 2,
      "outputs": [
        {
          "output_type": "execute_result",
          "data": {
            "text/plain": [
              "210367"
            ]
          },
          "metadata": {},
          "execution_count": 2
        }
      ]
    }
  ]
}